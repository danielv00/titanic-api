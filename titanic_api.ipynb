{
 "cells": [
  {
   "cell_type": "code",
   "execution_count": 1,
   "id": "0abc3f9f-b9cb-4dde-988b-8fd3987a8691",
   "metadata": {},
   "outputs": [],
   "source": [
    "import requests\n",
    "import logging\n",
    "import pandas as pd\n",
    "import numpy as np\n",
    "import matplotlib.pyplot as plt\n",
    "import sqlite3\n",
    "import aiosqlite"
   ]
  },
  {
   "cell_type": "markdown",
   "id": "91c38173-e628-4062-adbd-6263d71125fd",
   "metadata": {},
   "source": [
    "## Data sources"
   ]
  },
  {
   "cell_type": "markdown",
   "id": "ae0e088e-b89d-43b9-a067-780fb9f29a6d",
   "metadata": {},
   "source": [
    "### CSV"
   ]
  },
  {
   "cell_type": "code",
   "execution_count": 2,
   "id": "bb4fa94b-41ce-48c7-9dc0-ce853ad7e20d",
   "metadata": {},
   "outputs": [
    {
     "name": "stdout",
     "output_type": "stream",
     "text": [
      "df.shape=(891, 12)\n",
      "\n"
     ]
    },
    {
     "data": {
      "text/html": [
       "<div>\n",
       "<style scoped>\n",
       "    .dataframe tbody tr th:only-of-type {\n",
       "        vertical-align: middle;\n",
       "    }\n",
       "\n",
       "    .dataframe tbody tr th {\n",
       "        vertical-align: top;\n",
       "    }\n",
       "\n",
       "    .dataframe thead th {\n",
       "        text-align: right;\n",
       "    }\n",
       "</style>\n",
       "<table border=\"1\" class=\"dataframe\">\n",
       "  <thead>\n",
       "    <tr style=\"text-align: right;\">\n",
       "      <th></th>\n",
       "      <th>PassengerId</th>\n",
       "      <th>Survived</th>\n",
       "      <th>Pclass</th>\n",
       "      <th>Name</th>\n",
       "      <th>Sex</th>\n",
       "      <th>Age</th>\n",
       "      <th>SibSp</th>\n",
       "      <th>Parch</th>\n",
       "      <th>Ticket</th>\n",
       "      <th>Fare</th>\n",
       "      <th>Cabin</th>\n",
       "      <th>Embarked</th>\n",
       "    </tr>\n",
       "  </thead>\n",
       "  <tbody>\n",
       "    <tr>\n",
       "      <th>0</th>\n",
       "      <td>1</td>\n",
       "      <td>0</td>\n",
       "      <td>3</td>\n",
       "      <td>Braund, Mr. Owen Harris</td>\n",
       "      <td>male</td>\n",
       "      <td>22.0</td>\n",
       "      <td>1</td>\n",
       "      <td>0</td>\n",
       "      <td>A/5 21171</td>\n",
       "      <td>7.2500</td>\n",
       "      <td>NaN</td>\n",
       "      <td>S</td>\n",
       "    </tr>\n",
       "    <tr>\n",
       "      <th>1</th>\n",
       "      <td>2</td>\n",
       "      <td>1</td>\n",
       "      <td>1</td>\n",
       "      <td>Cumings, Mrs. John Bradley (Florence Briggs Th...</td>\n",
       "      <td>female</td>\n",
       "      <td>38.0</td>\n",
       "      <td>1</td>\n",
       "      <td>0</td>\n",
       "      <td>PC 17599</td>\n",
       "      <td>71.2833</td>\n",
       "      <td>C85</td>\n",
       "      <td>C</td>\n",
       "    </tr>\n",
       "    <tr>\n",
       "      <th>2</th>\n",
       "      <td>3</td>\n",
       "      <td>1</td>\n",
       "      <td>3</td>\n",
       "      <td>Heikkinen, Miss. Laina</td>\n",
       "      <td>female</td>\n",
       "      <td>26.0</td>\n",
       "      <td>0</td>\n",
       "      <td>0</td>\n",
       "      <td>STON/O2. 3101282</td>\n",
       "      <td>7.9250</td>\n",
       "      <td>NaN</td>\n",
       "      <td>S</td>\n",
       "    </tr>\n",
       "    <tr>\n",
       "      <th>3</th>\n",
       "      <td>4</td>\n",
       "      <td>1</td>\n",
       "      <td>1</td>\n",
       "      <td>Futrelle, Mrs. Jacques Heath (Lily May Peel)</td>\n",
       "      <td>female</td>\n",
       "      <td>35.0</td>\n",
       "      <td>1</td>\n",
       "      <td>0</td>\n",
       "      <td>113803</td>\n",
       "      <td>53.1000</td>\n",
       "      <td>C123</td>\n",
       "      <td>S</td>\n",
       "    </tr>\n",
       "    <tr>\n",
       "      <th>4</th>\n",
       "      <td>5</td>\n",
       "      <td>0</td>\n",
       "      <td>3</td>\n",
       "      <td>Allen, Mr. William Henry</td>\n",
       "      <td>male</td>\n",
       "      <td>35.0</td>\n",
       "      <td>0</td>\n",
       "      <td>0</td>\n",
       "      <td>373450</td>\n",
       "      <td>8.0500</td>\n",
       "      <td>NaN</td>\n",
       "      <td>S</td>\n",
       "    </tr>\n",
       "  </tbody>\n",
       "</table>\n",
       "</div>"
      ],
      "text/plain": [
       "   PassengerId  Survived  Pclass   \n",
       "0            1         0       3  \\\n",
       "1            2         1       1   \n",
       "2            3         1       3   \n",
       "3            4         1       1   \n",
       "4            5         0       3   \n",
       "\n",
       "                                                Name     Sex   Age  SibSp   \n",
       "0                            Braund, Mr. Owen Harris    male  22.0      1  \\\n",
       "1  Cumings, Mrs. John Bradley (Florence Briggs Th...  female  38.0      1   \n",
       "2                             Heikkinen, Miss. Laina  female  26.0      0   \n",
       "3       Futrelle, Mrs. Jacques Heath (Lily May Peel)  female  35.0      1   \n",
       "4                           Allen, Mr. William Henry    male  35.0      0   \n",
       "\n",
       "   Parch            Ticket     Fare Cabin Embarked  \n",
       "0      0         A/5 21171   7.2500   NaN        S  \n",
       "1      0          PC 17599  71.2833   C85        C  \n",
       "2      0  STON/O2. 3101282   7.9250   NaN        S  \n",
       "3      0            113803  53.1000  C123        S  \n",
       "4      0            373450   8.0500   NaN        S  "
      ]
     },
     "execution_count": 2,
     "metadata": {},
     "output_type": "execute_result"
    }
   ],
   "source": [
    "# Sanity for data located in csv file \n",
    "path = 'titanic.csv'\n",
    "df = pd.read_csv(path) \n",
    "\n",
    "print(f'{df.shape=}\\n')\n",
    "df.head()"
   ]
  },
  {
   "cell_type": "markdown",
   "id": "25318e1b-a53e-49f5-9afd-7dbbda796afe",
   "metadata": {},
   "source": [
    "### SQLITE"
   ]
  },
  {
   "cell_type": "code",
   "execution_count": 3,
   "id": "202b215d-7462-4c51-915c-0f3654fe7e32",
   "metadata": {},
   "outputs": [],
   "source": [
    "# Create sqlite db from the previously loaded daatframe\n",
    "db_file = 'titanic.db'\n",
    "table_name = 'Passengers'\n",
    "\n",
    "# Establish a connection to the SQLite database\n",
    "with sqlite3.connect(db_file) as conn:\n",
    "    # Write the DataFrame to the SQLite database\n",
    "    df.to_sql(table_name, conn, if_exists='replace', index=False)\n"
   ]
  },
  {
   "cell_type": "code",
   "execution_count": 4,
   "id": "9f26f0bd-3c91-4191-8440-0772fa0c05ee",
   "metadata": {},
   "outputs": [
    {
     "name": "stdout",
     "output_type": "stream",
     "text": [
      "df.shape=(891, 12)\n",
      "\n"
     ]
    },
    {
     "data": {
      "text/html": [
       "<div>\n",
       "<style scoped>\n",
       "    .dataframe tbody tr th:only-of-type {\n",
       "        vertical-align: middle;\n",
       "    }\n",
       "\n",
       "    .dataframe tbody tr th {\n",
       "        vertical-align: top;\n",
       "    }\n",
       "\n",
       "    .dataframe thead th {\n",
       "        text-align: right;\n",
       "    }\n",
       "</style>\n",
       "<table border=\"1\" class=\"dataframe\">\n",
       "  <thead>\n",
       "    <tr style=\"text-align: right;\">\n",
       "      <th></th>\n",
       "      <th>PassengerId</th>\n",
       "      <th>Survived</th>\n",
       "      <th>Pclass</th>\n",
       "      <th>Name</th>\n",
       "      <th>Sex</th>\n",
       "      <th>Age</th>\n",
       "      <th>SibSp</th>\n",
       "      <th>Parch</th>\n",
       "      <th>Ticket</th>\n",
       "      <th>Fare</th>\n",
       "      <th>Cabin</th>\n",
       "      <th>Embarked</th>\n",
       "    </tr>\n",
       "  </thead>\n",
       "  <tbody>\n",
       "    <tr>\n",
       "      <th>0</th>\n",
       "      <td>1</td>\n",
       "      <td>0</td>\n",
       "      <td>3</td>\n",
       "      <td>Braund, Mr. Owen Harris</td>\n",
       "      <td>male</td>\n",
       "      <td>22.0</td>\n",
       "      <td>1</td>\n",
       "      <td>0</td>\n",
       "      <td>A/5 21171</td>\n",
       "      <td>7.2500</td>\n",
       "      <td>None</td>\n",
       "      <td>S</td>\n",
       "    </tr>\n",
       "    <tr>\n",
       "      <th>1</th>\n",
       "      <td>2</td>\n",
       "      <td>1</td>\n",
       "      <td>1</td>\n",
       "      <td>Cumings, Mrs. John Bradley (Florence Briggs Th...</td>\n",
       "      <td>female</td>\n",
       "      <td>38.0</td>\n",
       "      <td>1</td>\n",
       "      <td>0</td>\n",
       "      <td>PC 17599</td>\n",
       "      <td>71.2833</td>\n",
       "      <td>C85</td>\n",
       "      <td>C</td>\n",
       "    </tr>\n",
       "    <tr>\n",
       "      <th>2</th>\n",
       "      <td>3</td>\n",
       "      <td>1</td>\n",
       "      <td>3</td>\n",
       "      <td>Heikkinen, Miss. Laina</td>\n",
       "      <td>female</td>\n",
       "      <td>26.0</td>\n",
       "      <td>0</td>\n",
       "      <td>0</td>\n",
       "      <td>STON/O2. 3101282</td>\n",
       "      <td>7.9250</td>\n",
       "      <td>None</td>\n",
       "      <td>S</td>\n",
       "    </tr>\n",
       "    <tr>\n",
       "      <th>3</th>\n",
       "      <td>4</td>\n",
       "      <td>1</td>\n",
       "      <td>1</td>\n",
       "      <td>Futrelle, Mrs. Jacques Heath (Lily May Peel)</td>\n",
       "      <td>female</td>\n",
       "      <td>35.0</td>\n",
       "      <td>1</td>\n",
       "      <td>0</td>\n",
       "      <td>113803</td>\n",
       "      <td>53.1000</td>\n",
       "      <td>C123</td>\n",
       "      <td>S</td>\n",
       "    </tr>\n",
       "    <tr>\n",
       "      <th>4</th>\n",
       "      <td>5</td>\n",
       "      <td>0</td>\n",
       "      <td>3</td>\n",
       "      <td>Allen, Mr. William Henry</td>\n",
       "      <td>male</td>\n",
       "      <td>35.0</td>\n",
       "      <td>0</td>\n",
       "      <td>0</td>\n",
       "      <td>373450</td>\n",
       "      <td>8.0500</td>\n",
       "      <td>None</td>\n",
       "      <td>S</td>\n",
       "    </tr>\n",
       "  </tbody>\n",
       "</table>\n",
       "</div>"
      ],
      "text/plain": [
       "   PassengerId  Survived  Pclass   \n",
       "0            1         0       3  \\\n",
       "1            2         1       1   \n",
       "2            3         1       3   \n",
       "3            4         1       1   \n",
       "4            5         0       3   \n",
       "\n",
       "                                                Name     Sex   Age  SibSp   \n",
       "0                            Braund, Mr. Owen Harris    male  22.0      1  \\\n",
       "1  Cumings, Mrs. John Bradley (Florence Briggs Th...  female  38.0      1   \n",
       "2                             Heikkinen, Miss. Laina  female  26.0      0   \n",
       "3       Futrelle, Mrs. Jacques Heath (Lily May Peel)  female  35.0      1   \n",
       "4                           Allen, Mr. William Henry    male  35.0      0   \n",
       "\n",
       "   Parch            Ticket     Fare Cabin Embarked  \n",
       "0      0         A/5 21171   7.2500  None        S  \n",
       "1      0          PC 17599  71.2833   C85        C  \n",
       "2      0  STON/O2. 3101282   7.9250  None        S  \n",
       "3      0            113803  53.1000  C123        S  \n",
       "4      0            373450   8.0500  None        S  "
      ]
     },
     "execution_count": 4,
     "metadata": {},
     "output_type": "execute_result"
    }
   ],
   "source": [
    "# Sanity for data data from the SQLite Passengers table\n",
    "query = f\"SELECT * FROM {table_name}\"\n",
    "\n",
    "\n",
    "with sqlite3.connect(db_file) as conn:\n",
    "    df = pd.read_sql_query(query, conn)\n",
    "\n",
    "print(f'{df.shape=}\\n')\n",
    "df.head()"
   ]
  },
  {
   "cell_type": "markdown",
   "id": "33f6d16f-414d-4c2f-9b4b-dc5ce93ecb3f",
   "metadata": {},
   "source": [
    "## Swagger Json"
   ]
  },
  {
   "cell_type": "code",
   "execution_count": 5,
   "id": "264f4ae6-d2a3-41fe-ae8b-0660fa50cede",
   "metadata": {},
   "outputs": [],
   "source": [
    "# Save swagger documentation to local json file \n",
    "swagger_json_url = \"http://localhost:8000/openapi.json\"\n",
    "response = requests.get(swagger_json_url)\n",
    "swagger_json = response.json()\n",
    "\n",
    "# You can then save the swagger_json to a file\n",
    "with open(\"swagger.json\", \"w\") as file:\n",
    "    file.write(str(swagger_json))"
   ]
  },
  {
   "cell_type": "markdown",
   "id": "ad85a436-b655-4db8-ba0b-b2adf225afd7",
   "metadata": {
    "tags": []
   },
   "source": [
    "## API methods"
   ]
  },
  {
   "cell_type": "markdown",
   "id": "519f5644-fad8-45ef-85fe-8c665b180ff7",
   "metadata": {},
   "source": [
    "### Base URL route"
   ]
  },
  {
   "cell_type": "code",
   "execution_count": 13,
   "id": "c34fd57d-250f-4c73-9ac1-c3b0e30c37b1",
   "metadata": {},
   "outputs": [
    {
     "name": "stdout",
     "output_type": "stream",
     "text": [
      "Welcome to Titanic API!\n"
     ]
    }
   ],
   "source": [
    "# GET API welcome message\n",
    "response = requests.get('http://localhost:8000/')\n",
    "print(response.json())"
   ]
  },
  {
   "cell_type": "markdown",
   "id": "7b01289c-d6c6-4613-a6ba-b91fe2ce549e",
   "metadata": {},
   "source": [
    "### Fares histogram route"
   ]
  },
  {
   "cell_type": "code",
   "execution_count": 14,
   "id": "c7925f98-870d-485b-a8a1-f4a70a33ba04",
   "metadata": {},
   "outputs": [
    {
     "name": "stdout",
     "output_type": "stream",
     "text": [
      "histogram data:\n",
      "{'percentiles': [0.0, 7.55, 7.8542, 8.05, 10.5, 14.4542, 21.6792, 27.0, 39.6875, 77.9583], 'counts': [88, 78, 76, 97, 101, 94, 88, 87, 95]}\n",
      "\n"
     ]
    },
    {
     "data": {
      "image/png": "[encoded data removed]",
      "text/plain": [
       "<Figure size 640x480 with 1 Axes>"
      ]
     },
     "metadata": {},
     "output_type": "display_data"
    }
   ],
   "source": [
    "# Get Fare histogram data from server and render it on client side\n",
    "\n",
    "# To get the fare histogram\n",
    "response = requests.get('http://localhost:8000/fare_histogram')\n",
    "data = response.json()\n",
    "print(f'histogram data:\\n{data}\\n')\n",
    "\n",
    "# Create the histogram\n",
    "plt.bar(data['percentiles'][:-1], data['counts'], width=np.diff(data['percentiles']), edgecolor=\"black\", align=\"edge\")\n",
    "\n",
    "# Label the axes\n",
    "plt.xlabel('Fare')\n",
    "plt.ylabel('Count')\n",
    "\n",
    "# Show the plot\n",
    "plt.show()"
   ]
  },
  {
   "cell_type": "markdown",
   "id": "c6de1b09-a52f-4879-a8a1-6ac585a81d07",
   "metadata": {},
   "source": [
    "### Passenger route"
   ]
  },
  {
   "cell_type": "markdown",
   "id": "340353a4-339e-45e0-a897-3564e9231a38",
   "metadata": {},
   "source": [
    "#### without attributes"
   ]
  },
  {
   "cell_type": "code",
   "execution_count": 15,
   "id": "f49c4459-12ee-42c0-9ec4-a02742c74c95",
   "metadata": {},
   "outputs": [
    {
     "name": "stdout",
     "output_type": "stream",
     "text": [
      "response.status_code=200\n"
     ]
    },
    {
     "data": {
      "text/plain": [
       "[{'PassengerId': 1,\n",
       "  'Survived': 0,\n",
       "  'Pclass': 3,\n",
       "  'Name': 'Braund, Mr. Owen Harris',\n",
       "  'Sex': 'male',\n",
       "  'Age': 22.0,\n",
       "  'SibSp': 1,\n",
       "  'Parch': 0,\n",
       "  'Ticket': 'A/5 21171',\n",
       "  'Fare': 7.25,\n",
       "  'Cabin': None,\n",
       "  'Embarked': 'S'}]"
      ]
     },
     "execution_count": 15,
     "metadata": {},
     "output_type": "execute_result"
    }
   ],
   "source": [
    "# Get the data for a valid passenger id\n",
    "passenger_id = 1\n",
    "response = requests.get(f'http://localhost:8000/passenger/{passenger_id}')\n",
    "print(f'{response.status_code=}')\n",
    "response.json()"
   ]
  },
  {
   "cell_type": "code",
   "execution_count": 16,
   "id": "ff318123-71c3-4068-b29f-24a8c2d4e815",
   "metadata": {},
   "outputs": [
    {
     "name": "stdout",
     "output_type": "stream",
     "text": [
      "response.status_code=404\n"
     ]
    },
    {
     "data": {
      "text/plain": [
       "'Passenger not found for passenger_id=-1'"
      ]
     },
     "execution_count": 16,
     "metadata": {},
     "output_type": "execute_result"
    }
   ],
   "source": [
    "# Try getting data for not existing passenger id\n",
    "passenger_id = -1\n",
    "response = requests.get(f'http://localhost:8000/passenger/{passenger_id}')\n",
    "print(f'{response.status_code=}')\n",
    "response.json()"
   ]
  },
  {
   "cell_type": "markdown",
   "id": "d6b14310-1497-4dd5-bc56-bfa6b479ff17",
   "metadata": {},
   "source": [
    "#### with attributes"
   ]
  },
  {
   "cell_type": "code",
   "execution_count": 17,
   "id": "eda98e6f-a7b5-4984-96da-2eaa84cdc051",
   "metadata": {},
   "outputs": [
    {
     "name": "stdout",
     "output_type": "stream",
     "text": [
      "Status code: 200\n",
      "Response body: [{'Name': 'Cumings, Mrs. John Bradley (Florence Briggs Thayer)', 'Sex': 'female', 'Age': 38.0}]\n"
     ]
    }
   ],
   "source": [
    "# Get 3 valid attributes for valid passenger \n",
    "passenger_id = 2\n",
    "attributes = ['Name', 'Sex', 'Age']\n",
    "\n",
    "# Send a GET request to the endpoint\n",
    "response = requests.get(f'http://localhost:8000/passenger/{passenger_id}?attributes={\",\".join(attributes)}')\n",
    "\n",
    "# Print the status code and the response body\n",
    "print(\"Status code:\", response.status_code)\n",
    "print(\"Response body:\", response.json())"
   ]
  },
  {
   "cell_type": "code",
   "execution_count": 18,
   "id": "9d6fb0c0-5541-4a08-80a5-9397f490cb05",
   "metadata": {},
   "outputs": [
    {
     "name": "stdout",
     "output_type": "stream",
     "text": [
      "Status code: 200\n",
      "Response body: [{'Name': 'Cumings, Mrs. John Bradley (Florence Briggs Thayer)', 'Sex': 'female', 'Age': 38.0}]\n"
     ]
    }
   ],
   "source": [
    "# Try getting invalid attribute along with 3 valid.\n",
    "# The invalid attribute should be ignored and warning will be shown in the log file. \n",
    "passenger_id = 2\n",
    "attributes = ['Name', 'Sex', 'Age', 'invalid']\n",
    "\n",
    "# Send a GET request to the endpoint\n",
    "response = requests.get(f'http://localhost:8000/passenger/{passenger_id}?attributes={\",\".join(attributes)}')\n",
    "\n",
    "# Print the status code and the response body\n",
    "print(\"Status code:\", response.status_code)\n",
    "print(\"Response body:\", response.json())"
   ]
  },
  {
   "cell_type": "markdown",
   "id": "83237905-4d25-4897-8957-524eee9df4e9",
   "metadata": {},
   "source": [
    "### Passengers route"
   ]
  },
  {
   "cell_type": "code",
   "execution_count": 19,
   "id": "fd2490ef-f091-47ce-bc90-0c74a8e626d9",
   "metadata": {},
   "outputs": [
    {
     "name": "stdout",
     "output_type": "stream",
     "text": [
      "total passengers = 891\n",
      "First 2 passengers data:\n"
     ]
    },
    {
     "data": {
      "text/plain": [
       "[{'PassengerId': 1,\n",
       "  'Survived': 0,\n",
       "  'Pclass': 3,\n",
       "  'Name': 'Braund, Mr. Owen Harris',\n",
       "  'Sex': 'male',\n",
       "  'Age': 22.0,\n",
       "  'SibSp': 1,\n",
       "  'Parch': 0,\n",
       "  'Ticket': 'A/5 21171',\n",
       "  'Fare': 7.25,\n",
       "  'Cabin': None,\n",
       "  'Embarked': 'S'},\n",
       " {'PassengerId': 2,\n",
       "  'Survived': 1,\n",
       "  'Pclass': 1,\n",
       "  'Name': 'Cumings, Mrs. John Bradley (Florence Briggs Thayer)',\n",
       "  'Sex': 'female',\n",
       "  'Age': 38.0,\n",
       "  'SibSp': 1,\n",
       "  'Parch': 0,\n",
       "  'Ticket': 'PC 17599',\n",
       "  'Fare': 71.2833,\n",
       "  'Cabin': 'C85',\n",
       "  'Embarked': 'C'}]"
      ]
     },
     "execution_count": 19,
     "metadata": {},
     "output_type": "execute_result"
    }
   ],
   "source": [
    "# Get all passengers data\n",
    "response = requests.get('http://localhost:8000/passengers')\n",
    "print(f'total passengers = {len(response.json())}')\n",
    "print('First 2 passengers data:')\n",
    "response.json()[:2]"
   ]
  },
  {
   "cell_type": "markdown",
   "id": "fe49ad39-8925-49d8-9ea9-cceaf83ad196",
   "metadata": {},
   "source": [
    "## invalid Data scource"
   ]
  },
  {
   "cell_type": "code",
   "execution_count": 21,
   "id": "48807395-1787-430a-984c-f6677930a9e1",
   "metadata": {},
   "outputs": [
    {
     "data": {
      "text/plain": [
       "{'_content': b'\"data source issue\"',\n",
       " '_content_consumed': True,\n",
       " '_next': None,\n",
       " 'status_code': 500,\n",
       " 'headers': {'date': 'Wed, 19 Jul 2023 14:17:33 GMT', 'server': 'uvicorn', 'content-length': '19', 'content-type': 'application/json'},\n",
       " 'raw': <urllib3.response.HTTPResponse at 0x1a83ad3ac20>,\n",
       " 'url': 'http://localhost:8000/passengers',\n",
       " 'encoding': 'utf-8',\n",
       " 'history': [],\n",
       " 'reason': 'Internal Server Error',\n",
       " 'cookies': <RequestsCookieJar[]>,\n",
       " 'elapsed': datetime.timedelta(seconds=2, microseconds=33143),\n",
       " 'request': <PreparedRequest [GET]>,\n",
       " 'connection': <requests.adapters.HTTPAdapter at 0x1a83ae02e90>}"
      ]
     },
     "execution_count": 21,
     "metadata": {},
     "output_type": "execute_result"
    }
   ],
   "source": [
    "# Sending a request when the data scouce is not valid\n",
    "response = requests.get('http://localhost:8000/passengers')\n",
    "vars(response)"
   ]
  }
 ],
 "metadata": {
  "kernelspec": {
   "display_name": "Python 3 (ipykernel)",
   "language": "python",
   "name": "python3"
  },
  "language_info": {
   "codemirror_mode": {
    "name": "ipython",
    "version": 3
   },
   "file_extension": ".py",
   "mimetype": "text/x-python",
   "name": "python",
   "nbconvert_exporter": "python",
   "pygments_lexer": "ipython3",
   "version": "3.11.0"
  }
 },
 "nbformat": 4,
 "nbformat_minor": 5
}
